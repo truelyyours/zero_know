{
 "cells": [
  {
   "cell_type": "code",
   "execution_count": 1,
   "metadata": {},
   "outputs": [],
   "source": [
    "def compute_field_element_from_fraction(num, den, p):\n",
    "    inv_den = pow(den, -1, p)\n",
    "    return (num * inv_den) % p\n"
   ]
  },
  {
   "cell_type": "code",
   "execution_count": 2,
   "metadata": {},
   "outputs": [],
   "source": [
    "# Fractions in finte field. Validating arith. circuit w/ rational answers\n",
    "# E.g.: the field is:\n",
    "# x + y + z === 1;\n",
    "# x === y;\n",
    "# y === z;\n",
    "\n",
    "p = 11 # Over a finite field of characteristic 11.\n",
    "\n",
    "# x, y, z have value 1/3\n",
    "x = pow(3, -1, 11)\n",
    "y = pow(3, -1, 11)\n",
    "z = pow(3, -1, 11)\n",
    "\n",
    "assert x == y;\n",
    "assert y == z;\n",
    "assert (x + y + z) % p == 1"
   ]
  },
  {
   "cell_type": "code",
   "execution_count": 10,
   "metadata": {},
   "outputs": [
    {
     "name": "stdout",
     "output_type": "stream",
     "text": [
      "4 5 7\n"
     ]
    }
   ],
   "source": [
    "# We can use library called galios (gal-wah)\n",
    "# Finite fields are also call \"Galios Fields\"\n",
    "import galois\n",
    "\n",
    "GF7 = galois.GF(7) \n",
    "\n",
    "one_half = GF7(1) / GF7(2)\n",
    "one_third = GF7(1) / GF7(3)\n",
    "five_over_six = GF7(5) / GF7(6)\n",
    "\n",
    "assert one_half + one_third == five_over_six\n",
    "print(one_half, one_third, five_over_six)"
   ]
  },
  {
   "cell_type": "code",
   "execution_count": 11,
   "metadata": {},
   "outputs": [
    {
     "name": "stdout",
     "output_type": "stream",
     "text": [
      "5 9 11\n"
     ]
    }
   ],
   "source": [
    "# Multiplication of fractions is also consistent in GF\n",
    "\n",
    "GF17 = galois.GF(17)\n",
    "\n",
    "three_fourth = GF17(3) / GF17(4)\n",
    "one_half = GF17(1) / GF17(2)\n",
    "three_eighth = GF17(3) / GF17(8)\n",
    "\n",
    "assert three_fourth * one_half == three_eighth\n",
    "print(three_fourth, one_half, three_eighth)"
   ]
  },
  {
   "cell_type": "markdown",
   "metadata": {},
   "source": [
    "### a × b ≠ 0 for all nonzero a, b\n",
    "\n",
    "So, $x_1 * x_2 * ... * x_n \\neq 0$ means that none of the $x_i$ are 0. \n",
    "\n",
    "And example of usage of this property is say we have signals $x_1, x_2, x_3$ and atleast one has to be $k$. Then, over some finite field, $(x_1 + add-inv(k))(x_2 + add-inv(k))(x_3 + add-inv(k)) === 0$ which is equivalent to $(x_1 - 8)(x_2 - 8)(x_3 - 8) === 0$ in normal arithmatic circuits."
   ]
  },
  {
   "cell_type": "code",
   "execution_count": 12,
   "metadata": {},
   "outputs": [
    {
     "data": {
      "text/plain": [
       "[4, 7]"
      ]
     },
     "execution_count": 12,
     "metadata": {},
     "output_type": "execute_result"
    }
   ],
   "source": [
    "# Square root modulo p\n",
    "# There are two root for a give number which are additive inverse of each other.\n",
    "# NOT all numbers have root in GF(p)\n",
    "\n",
    "# We use libnum library\n",
    "# install libnum with `python -m pip install libnum`\n",
    "from libnum import has_sqrtmod_prime_power, sqrtmod_prime_power\n",
    "has_sqrtmod_prime_power(5, 11, 1) # True\n",
    "list(sqrtmod_prime_power(5, 11, 1)) # [4, 7]"
   ]
  },
  {
   "cell_type": "markdown",
   "metadata": {},
   "source": [
    "When $p = 4k + 3$, the square root can be calculated as $x ^ e\\ \\%\\ p$\n",
    "\n",
    "If not of above form, then Tonelli-Shanks algo is used (implemented by libnum)"
   ]
  },
  {
   "cell_type": "code",
   "execution_count": 18,
   "metadata": {},
   "outputs": [],
   "source": [
    "def mod_sqrt(x, p):\n",
    "    assert (p - 3) % 4 == 0, \"prime not 4k + 3\"\n",
    "    exponent = (p + 1) // 4\n",
    "    return pow(x, exponent, p) # x ^ e % p\n",
    "# This does not check if a sqrt for given x exists or not!"
   ]
  },
  {
   "cell_type": "markdown",
   "metadata": {},
   "source": [
    "Polynomials and equations in using galios library.\n",
    "\n",
    "If a linear eq has no soln or one soln or inf soln in real space, it DOES NOT mean it is true for that system of eq in finite space of p.\n",
    "\n",
    "E.g.: $x + 2y = 3$ and $4x + 8y = 1$. These have no soln in real space but 11 solutions in GF(11)"
   ]
  },
  {
   "cell_type": "code",
   "execution_count": 21,
   "metadata": {},
   "outputs": [
    {
     "name": "stdout",
     "output_type": "stream",
     "text": [
      "p1: x^2 + 2x + 102\n",
      "p2: x^2 + x + 1\n",
      "p1 + p2: 2x^2 + 2x + 2\n",
      "p1 * p2 x^4 + 3x^3 + 2x^2 + x + 102\n"
     ]
    }
   ],
   "source": [
    "# Galios library does many of the polynomials operations.\n",
    "\n",
    "GF103 = galois.GF(103)\n",
    "\n",
    "# x^2 + 2x -1 with p = 103\n",
    "p1 = galois.Poly([1, 2, -1], GF103)\n",
    "print(\"p1:\", p1)  # galios library automatically converts the -1 to it's additive inverse\n",
    "\n",
    "# x^2 + x + 1 with p = 103\n",
    "p2 = galois.Poly([1, 1, 1], GF103)\n",
    "\n",
    "print(\"p2:\", p2)\n",
    "\n",
    "# p1 + p2 and p1*p2\n",
    "print(\"p1 + p2:\", p2 + p2)\n",
    "print(\"p1 * p2\", p1 * p2)"
   ]
  },
  {
   "cell_type": "markdown",
   "metadata": {},
   "source": [
    "Finding roots of polynomials over finite field is difficult. https://en.wikipedia.org/wiki/Factorization_of_polynomials_over_finite_fields.\n",
    "\n",
    "The galios library can calculate the root with `roots` function"
   ]
  },
  {
   "cell_type": "code",
   "execution_count": 22,
   "metadata": {},
   "outputs": [
    {
     "name": "stdout",
     "output_type": "stream",
     "text": [
      "[37 46 56 64]\n"
     ]
    }
   ],
   "source": [
    "print((p1 * p2).roots())"
   ]
  },
  {
   "cell_type": "code",
   "execution_count": 24,
   "metadata": {},
   "outputs": [],
   "source": [
    "# Very time consuming\n",
    "# gg = galois.GF(21888242871839275222246405745257275088548364400416034343698204186575808495617)"
   ]
  },
  {
   "cell_type": "code",
   "execution_count": 1,
   "metadata": {},
   "outputs": [],
   "source": [
    "# p = galois.Poly([1, 2, -8], gg)\n",
    "\n",
    "# print(p.roots())"
   ]
  },
  {
   "cell_type": "markdown",
   "metadata": {},
   "source": [
    "## Finite Fields\n",
    "Given a prime number $p$, we can make a finite field with $p$ elements by taking the set of integers${0, 1, 2, ..., p-1}$ and define addition and multiplication to be done modulo $p$."
   ]
  },
  {
   "cell_type": "markdown",
   "metadata": {},
   "source": [
    "## Group Theory\n",
    "A group is a set with:\n",
    "1. a closed binary operator\n",
    "2. the binary operator is also associative\n",
    "3. an identity element\n",
    "4. every element having an inverse\n",
    "\n",
    "An Abelian group has the additional requirement that the binary operator is commutative."
   ]
  },
  {
   "cell_type": "markdown",
   "metadata": {},
   "source": [
    "## Homomorphism \n",
    "Suppose we have two algebraic data structures $(A, □)$ and $(B, ■)$, where the binary operator of $A$ is □ and the binary operator of $B$ is ■.\n",
    "\n",
    "A homomorphism from $A$ to $B$ exists if and only if $\\exists$ a function $\\phi: A \\to B$ such that\n",
    "\n",
    "$$\\phi(a_i\\ □\\ a_j) = \\phi(a_i)\\ ■\\ \\phi(a_j)\\ \\forall a_i, a_j\\ \\epsilon\\ A $$\n",
    "\n",
    "\n",
    "In other words, if $a_i\\ □ \\ a_j\\ = \\ a_k$, then $\\phi(a_i)\\ ■\\ \\phi(a_j)\\ =\\ \\phi(a_k)$.\n",
    "\n",
    "Note that homomorphism is one directional."
   ]
  },
  {
   "cell_type": "markdown",
   "metadata": {},
   "source": [
    "### Homomorphic Encryption\n",
    "If $\\phi$ is computationally difficult to invert, then $\\phi$ homomorphically encrypts the elements of $A$.\n",
    "\n",
    "Zero Knowledge Examples:\n",
    "1. Suppose we wish to prove to a verifier that we computed $2 + 3 = 5$ . We would give the verifier $(x, y, 5)$ where $x = \\phi(2),\\ y = \\phi(3)$ and the verifier check that:\n",
    "$x\\ ■\\ y = \\phi(5)$.\n",
    "Note that homomorphic encryption implies that the verifier knows the function $\\phi$.\n",
    "\n",
    "In these examples, note that we didn’t say anything about what elements of $B$ are or what ■ is. $B$ can be scary mathematical objects, and ■\n",
    "can be a scary mathematical operator, but that doesn’t matter.\n",
    "\n",
    "This is the beauty of abstract algebra: we don’t need to know. As long as it has the properties we care about, we can reason about its behavior even if we know nothing about the implementation.\n"
   ]
  },
  {
   "cell_type": "markdown",
   "metadata": {},
   "source": [
    "“Elliptic curve points in a finite field under addition are a finite cyclic group and integers under addition are homomorphic to this group.”\n",
    "\n",
    "You probably don’t know what elliptic curve points are or what adding them means, but you do know:\n",
    "1. The set of elliptic curve points under addition produces another elliptic curve point.\n",
    "2. The binary operator that takes two elliptic curve points and returns another elliptic curve point is associative.\n",
    "3. The set of elliptic curve points contains an identity element.\n",
    "4. The elliptic curve group has an identity element, which is unique.\n",
    "5. Each elliptic curve point has an inverse such that adding a point and its inverse produces the identity.\n",
    "6. Because the group is cyclic, every elliptic curve point can be generated by repeatedly applying the binary operator to some generator element.\n",
    "7. Because the group of elliptic curve points is cyclic, it is also an abelian group.\n",
    "8. Because it is a finite group, the order is finite.\n",
    "9. Because of the homomorphism, we have a strong idea of how the binary operator for elliptic curve points behaves. We can use the elliptic curve point binary operator to “add integers” in a certain sense."
   ]
  },
  {
   "cell_type": "markdown",
   "metadata": {},
   "source": [
    "## Elliptic Curves\n",
    "\n",
    "Elliptic curves are a family of curves which have the formula\n",
    "\n",
    "$$y^2 = x^3 + ax + b$$\n",
    "\n",
    "The set of points on an elliptic curve form a GROUP under elliptic curve point addition.\n",
    "\n",
    "As long as x is not “perfectly vertical” if it crosses two points on the curve, it will always cross a third. \n",
    "Or more technically,\n",
    "If a straight line crosses an elliptic curve at exactly two points, and neither of the intersection points are tangent intersections, then it must be perfectly vertical.\n",
    "\n",
    "### Inverse of Point\n",
    "The inverse of an elliptic curve point is the negative of the y value of the pair. That is, the inverse of $(x,y)$ is $(x, -y)$ and vice versa. Drawing a line through such points creates a perfectly vertical line.\n",
    "\n",
    "### Identity Element\n",
    "The identity element is the “point at infinity” we alluded to earlier is simply the point “way up there” when we draw a vertical line.\n",
    "\n",
    "### Formula for Addition\n",
    "Given two point\n",
    "$$\n",
    "P_1 = (x_1, y_1) \\newline\n",
    "P_2 = (x_2, y_2)\n",
    "$$\n",
    "then $P_3 = P_1 \\oplus P_2$ is:\n",
    "$$\n",
    "\\lambda = \\frac{y_2 - y_1}{x_2 - x_1}\n",
    "\\newline\n",
    "x_3 = \\lambda^2 - x_1 - x_2\n",
    "\\newline\n",
    "y_3 = \\lambda(x_3 - x1) - y_1\n",
    "$$"
   ]
  },
  {
   "cell_type": "markdown",
   "metadata": {},
   "source": [
    "### Algebriacally demonstrating commutativity and associativity:\n",
    "$$\n",
    "T \\oplus U = U \\oplus T\n",
    "\\newline\n",
    "Let,\\ P = T \\oplus U\\ and\\ Q = U \\oplus T\n",
    "\\newline\n",
    "$$\n",
    "\n",
    "$$\n",
    "var(\"y_t\", \"y_u\", \"x_t\", \"x_u\")\\\\\n",
    "lambda_p = (y_u - y_t)/(x_u - x_t)\\\\\n",
    "x_p = lambda_p^2 - x_t - x_u\\\\\n",
    "y_p = (lambda_p*(x_t - x_p) - y_t)\\\\\n",
    "\n",
    "lambda_q = (y_t - y_u)/(x_t - x_u)\\\\\n",
    "x_q = lambda_q^2 - x_u - x_t\\\\\n",
    "y_q = (lambda_q*(x_u - x_q) - y_u)\\\\\n",
    "$$"
   ]
  },
  {
   "cell_type": "markdown",
   "metadata": {},
   "source": [
    "## Shortcut for point multiplication\n",
    "\n",
    "What if we wanted to compute $1000A$ instead of $2A$ ? It would seem this is an $O(n)$ operation, but it isn’t.\n",
    "Because of associativity, we can write $1000A$ as:\n",
    "$$\n",
    "1000A = 512A \\oplus 256A \\oplus 128A \\oplus 64A \\oplus 32A \\oplus 8A\n",
    "$$\n",
    "\n",
    "$512A$ (and the other terms) can be computed quickly because 512 is just $A$ doubled 9 times.\n",
    "\n",
    "This is actually an important property when we get to cryptography:\n",
    "\n",
    "We can efficiently multiply an elliptic curve point by a large integer efficiently."
   ]
  },
  {
   "cell_type": "markdown",
   "metadata": {},
   "source": [
    "## Elliptic curve over Finite Field\n",
    "\n",
    "We take the interget valus of x that result in interger y modulo some prime $p$.\n",
    "In practise (for cryptography) p is usually 200 bits long. Also, this et of point modulo $p$ form a cyclic group, which is very useful.\n",
    "\n"
   ]
  },
  {
   "cell_type": "markdown",
   "metadata": {},
   "source": [
    "## BN128 curve\n",
    "\n",
    "The BN128 curve, which is used by the Ethereum precompiles to verify ZK proofs, is specified as follows:\n",
    "$$\n",
    "p = 21888242871839275222246405745257275088696311157297823662689037894645226208583\n",
    "\\newline\n",
    "y^2 = x^3 + 3 (mod p)\n",
    "$$\n",
    "\n",
    "Note that `field_modulus` $p$ is not the same or order of curve order (i.e. number of points in the EC finte field)"
   ]
  },
  {
   "cell_type": "markdown",
   "metadata": {},
   "source": [
    "## Modular square root\n",
    "\n",
    "As discussed previously, we simply use `libnum` library to compute square root mod $p$. If $a = 4k + 3$ then, the square root is $pow(a, k + 1, p)$. Else we use `Tonelli-Shanks algorithm`."
   ]
  },
  {
   "cell_type": "markdown",
   "metadata": {},
   "source": [
    "## Generating points of EC group\n",
    "\n",
    "Now as we know how to get square root mod $p$, we will simply calculate the square root of $x^3 + 3\\ mod\\ p$."
   ]
  },
  {
   "cell_type": "code",
   "execution_count": 8,
   "metadata": {},
   "outputs": [
    {
     "data": {
      "text/plain": [
       "[]"
      ]
     },
     "execution_count": 8,
     "metadata": {},
     "output_type": "execute_result"
    },
    {
     "data": {
      "image/png": "[encoded data removed]",
      "text/plain": [
       "<Figure size 640x480 with 1 Axes>"
      ]
     },
     "metadata": {},
     "output_type": "display_data"
    }
   ],
   "source": [
    "import libnum\n",
    "import matplotlib.pyplot as plt\n",
    "\n",
    "def generate_points(p):\n",
    "    xs = []\n",
    "    ys = []\n",
    "    \n",
    "    def y_squared(x):\n",
    "        return (x**3 + 3) % p\n",
    "    \n",
    "    for x in range(0, p):\n",
    "        if libnum.has_sqrtmod_prime_power(y_squared(x), p):\n",
    "            roots = libnum.sqrtmod_prime_power(y_squared(x), p)\n",
    "        \n",
    "            for r in roots:\n",
    "                xs.append(x)\n",
    "                ys.append(r)\n",
    "    return xs, ys\n",
    "\n",
    "p = 11\n",
    "xx, yy = generate_points(p)\n",
    "\n",
    "# Plot the points\n",
    "fig, (ax1) = plt.subplots(1, 1)\n",
    "fig.suptitle(f\"y^2 = x^3 + (3 mod {p})\")\n",
    "# fig.set_size_inches(10,10)\n",
    "ax1.set_xticks(range(0, p))\n",
    "ax1.set_yticks(range(0, p))\n",
    "plt.grid()\n",
    "plt.scatter(xx, yy)\n",
    "plt.plot()\n"
   ]
  },
  {
   "cell_type": "markdown",
   "metadata": {},
   "source": [
    "## Elliptic curve point addition\n",
    "\n",
    "Picking two points from the plots above, then plugging them into the code below to add points and seeing they always land on another point (or the point on infinity if the points are inverses of each other)."
   ]
  },
  {
   "cell_type": "code",
   "execution_count": 1,
   "metadata": {},
   "outputs": [],
   "source": [
    "## Elliptic curve point addition for curve y^2 = x^3 + 3\n",
    "\n",
    "def double(x, y, a, p):\n",
    "    \"\"\"When we add points w/ same x and y. I.e. we compute 2*P\"\"\"\n",
    "    lambd = (((3 * x**2) % p) * pow(2 * y, -1, p)) % p\n",
    "    xx = (lambd**2 - 2*x) % p\n",
    "    yy = (-lambd * xx + lambd * x - y) % p\n",
    "    return (xx, yy)\n",
    "\n",
    "def add_points(p1, p2, p, a=0):\n",
    "    \"\"\"\n",
    "    p1: tuple of (x1, y1)\n",
    "    p1: tuple of (x2, y2)\n",
    "    p: prime/field_modular number\n",
    "    \"\"\"\n",
    "    if p1[0] == p1[1] == None:\n",
    "        # I.e. infinity point or identity point\n",
    "        return p2\n",
    "    if p2[0] == p2[1] == None:\n",
    "        # I.e. infinity point or identity point\n",
    "        return p1\n",
    "\n",
    "    assert (p1[0]**3 + 3) % p == p1[1]**2 % p, \"p1 not on curve\"\n",
    "    assert (p2[0]**3 + 3) % p == p2[1]**2 % p, \"p2 not on curve\"\n",
    "\n",
    "    if p1 == p2:\n",
    "        # Same point added twice\n",
    "        return double(p1[0], p2[1], a, p)\n",
    "    elif p1[0] == p2[0]:\n",
    "        # Same x, meaning y will be inverted i.e. both points are inverse of each other\n",
    "        return (None, None)\n",
    "    \n",
    "    lambd = ((p1[1] - p2[1]) * pow(p1[0] - p2[0], -1, p)) % p\n",
    "    xx = (lambd**2 - p1[0] - p2[0]) % p\n",
    "    yy = (lambd*(p2[0] - xx) - p2[1]) % p\n",
    "    return (xx, yy)\n"
   ]
  },
  {
   "cell_type": "code",
   "execution_count": 3,
   "metadata": {},
   "outputs": [
    {
     "name": "stdout",
     "output_type": "stream",
     "text": [
      "1 (4, 10)\n",
      "2 (7, 7)\n",
      "3 (1, 9)\n",
      "4 (0, 6)\n",
      "5 (8, 8)\n",
      "6 (2, 0)\n",
      "7 (8, 3)\n",
      "8 (0, 5)\n",
      "9 (1, 2)\n",
      "10 (7, 4)\n",
      "11 (4, 1)\n",
      "12 (None, None)\n",
      "13 (4, 10)\n"
     ]
    }
   ],
   "source": [
    "# Generating points from \"G\" generator\n",
    "\n",
    "# for our purposes, (4, 10) is the generator point G\n",
    "G = (4, 10)\n",
    "p = 11\n",
    "next_point = G\n",
    "print(1, G)\n",
    "points = [G]\n",
    "for i in range(2, 12):\n",
    "    # There are 12 points in the finite field modulo 11\n",
    "    next_point = add_points(next_point, G, p)\n",
    "    print(i, next_point)\n",
    "    points.append(next_point)\n",
    "\n",
    "# If we add G 2 more times then we reach the identity element and the cycle of points repeat\n",
    "next_point = add_points(next_point, G, p)\n",
    "print(12, next_point)\n",
    "next_point = add_points(next_point, G, p)\n",
    "print(13, next_point)"
   ]
  },
  {
   "cell_type": "markdown",
   "metadata": {},
   "source": [
    "### If the number of points is prime, then the addition of points behaves like a finite field\n",
    "\n",
    "I.e. for $p = 11$, we have $12$ points, which is not prime but for $p = 43$, we have $31$ points in the finite field of EC which is prime. Hence, when the order of the curve(no of points on the curve % p) matches the order of the finite field (no of points of order of curve) every operation you do in the **finite field has a homomorphic equivalent in the elliptic curve.**"
   ]
  },
  {
   "cell_type": "markdown",
   "metadata": {},
   "source": [
    "## Python bn128 library\n",
    "\n",
    "We use `py_ecc` library. Install by `python -m pip install py_ecc`\n",
    "\n",
    "The `field_modulus` is the modulo we do the curve over. The `curve_order` is the number of points on the curve"
   ]
  },
  {
   "cell_type": "code",
   "execution_count": 8,
   "metadata": {},
   "outputs": [
    {
     "name": "stdout",
     "output_type": "stream",
     "text": [
      "(1, 2)\n",
      "(1368015179489954701390400359078579693043519447331113978918064868415326638035, 9918110051302171585080402603319702774565515993150576347155970296011118125764)\n",
      "None\n",
      "Curve Order:  21888242871839275222246405745257275088548364400416034343698204186575808495617\n",
      "Field Modulus:  21888242871839275222246405745257275088696311157297823662689037894645226208583\n"
     ]
    }
   ],
   "source": [
    "from py_ecc.bn128 import G1, multiply, add, eq, neg, curve_order, field_modulus\n",
    "\n",
    "print(G1)\n",
    "\n",
    "print(add(G1, G1))\n",
    "\n",
    "# Multiplication is always w/ some scalar (or integer)\n",
    "assert eq(multiply(G1, 5), add(multiply(G1, 2), multiply(G1, 3)))\n",
    "\n",
    "# Inverse if calculated using `neg` function\n",
    "p1 = multiply(G1, 4)\n",
    "p1_inv = neg(p1)\n",
    "\n",
    "print(\"Point + it's inverse:\", add(p1, p1_inv))\n",
    "\n",
    "print(\"Curve Order: \", curve_order)\n",
    "print(\"Field Modulus: \", field_modulus)"
   ]
  },
  {
   "cell_type": "code",
   "execution_count": 6,
   "metadata": {},
   "outputs": [],
   "source": [
    "# Encoding ration numbers\n",
    "\n",
    "# NOTE: We use the curve order and not the field modulus\n",
    "\n",
    "five_over_two = (5 * pow(2, -1, curve_order)) % curve_order\n",
    "one_half_ec = pow(2, -1, curve_order)\n",
    "\n",
    "assert eq(add(multiply(G1, five_over_two), multiply(G1, one_half_ec)), multiply(G1, 3))\n"
   ]
  },
  {
   "cell_type": "markdown",
   "metadata": {},
   "source": [
    "This is most important thing to remember for this lesson:\n",
    "\n",
    "**Elliptic curves over finite fields homomorphically encrypt addition in a finite field.**\n",
    "\n",
    "The security of using EC lies in the *discrete logarithm problem*:\n",
    "**A scalar multiplied by a point will result in another point, and it is infeasible in general to calculate the scalar given the elliptic curve point.**"
   ]
  }
 ],
 "metadata": {
  "kernelspec": {
   "display_name": "Python 3 (ipykernel)",
   "language": "python",
   "name": "python3"
  },
  "language_info": {
   "codemirror_mode": {
    "name": "ipython",
    "version": 3
   },
   "file_extension": ".py",
   "mimetype": "text/x-python",
   "name": "python",
   "nbconvert_exporter": "python",
   "pygments_lexer": "ipython3",
   "version": "3.11.10"
  },
  "widgets": {
   "application/vnd.jupyter.widget-state+json": {
    "state": {},
    "version_major": 2,
    "version_minor": 0
   }
  }
 },
 "nbformat": 4,
 "nbformat_minor": 4
}
