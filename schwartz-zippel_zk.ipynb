{
 "cells": [
  {
   "cell_type": "code",
   "execution_count": 1,
   "id": "82d903fd-b2a2-441d-9374-2047b85924e6",
   "metadata": {},
   "outputs": [
    {
     "name": "stdout",
     "output_type": "stream",
     "text": [
      "     3      2\n",
      "2.5 x - 20 x + 46.5 x - 25\n"
     ]
    }
   ],
   "source": [
    "from scipy.interpolate import lagrange\n",
    "x_values = [1, 2, 3, 4]\n",
    "y_values = [4, 8, 2, 1]\n",
    "\n",
    "print(lagrange(x_values, y_values))\n",
    "#      3      2\n",
    "# 2.5 x - 20 x + 46.5 x - 25"
   ]
  },
  {
   "cell_type": "markdown",
   "id": "80a45d7f-2b1c-4502-aaa8-4688fd4c8468",
   "metadata": {},
   "source": [
    "## The above in finite field\n",
    "\n",
    "Let’s use the same polynomial as before, but this time we’ll use a finite field $\\mathbb{F}_{17}$ instead of floating point numbers."
   ]
  },
  {
   "cell_type": "code",
   "execution_count": 6,
   "id": "1b93f4da-af37-4737-a4e1-c214f71d79af",
   "metadata": {},
   "outputs": [
    {
     "name": "stdout",
     "output_type": "stream",
     "text": [
      "11x^3 + 14x^2 + 4x + 9\n",
      "4 8 2 1\n"
     ]
    }
   ],
   "source": [
    "import galois\n",
    "import numpy as np\n",
    "GF17 = galois.GF(17)\n",
    "\n",
    "xs = GF17(np.array([1,2,3,4]))\n",
    "ys = GF17(np.array([4,8,2,1]))\n",
    "\n",
    "p = galois.lagrange_poly(xs, ys)\n",
    "\n",
    "print(p)\n",
    "\n",
    "print(p(1), p(2), p(3), p(4))\n",
    "\n",
    "assert p(1) == GF17(4)\n",
    "assert p(2) == GF17(8)\n",
    "assert p(3) == GF17(2)\n",
    "assert p(4) == GF17(1)"
   ]
  },
  {
   "cell_type": "markdown",
   "id": "9197ee33-ba8f-4af0-999f-b0126afbc22f",
   "metadata": {},
   "source": [
    "**For a set of $n$ points, there is a unique lowest-degree polynomial of at most degree $n - 1$ that interpolates them.**  \n",
    "The conosequence of this is that  \n",
    "**If we use the points $(1,2,…,n)$ as the $x$ values to convert a length $n$ vector to a polynomial via Lagrange interpolation, then the resulting polynomial is unique.**"
   ]
  },
  {
   "cell_type": "markdown",
   "id": "e4985ba1-f6e6-41b6-a70d-15f698f96970",
   "metadata": {},
   "source": [
    "# The Schwartz-Zippel Lemma and its application to Zero Knowledge Proofs\n",
    "\n",
    "Nearly all ZK-Proof algorithms rely on the Schwartz-Zippel Lemma to achieve succintness.  \n",
    "The Schwartz-Zippel Lemma states that if we are given two polynomials $p(x)$ and $q(x)$ with degrees $d_p$ and $d_q$ respectively, and if $p(x) \\neq q(x)$, then the number of points where $p(x)$ and $q(x)$ intersect is less than or equal to $max(d_p, d_q)$.\n",
    "\n",
    "## Polynomials in finite fields and the Schwartz-Zippel Lemma\n",
    "\n"
   ]
  }
 ],
 "metadata": {
  "kernelspec": {
   "display_name": "Python 3 (ipykernel)",
   "language": "python",
   "name": "python3"
  },
  "language_info": {
   "codemirror_mode": {
    "name": "ipython",
    "version": 3
   },
   "file_extension": ".py",
   "mimetype": "text/x-python",
   "name": "python",
   "nbconvert_exporter": "python",
   "pygments_lexer": "ipython3",
   "version": "3.11.10"
  },
  "widgets": {
   "application/vnd.jupyter.widget-state+json": {
    "state": {},
    "version_major": 2,
    "version_minor": 0
   }
  }
 },
 "nbformat": 4,
 "nbformat_minor": 5
}
