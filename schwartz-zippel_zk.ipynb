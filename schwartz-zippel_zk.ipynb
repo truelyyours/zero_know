{
 "cells": [
  {
   "cell_type": "code",
   "execution_count": 1,
   "id": "82d903fd-b2a2-441d-9374-2047b85924e6",
   "metadata": {},
   "outputs": [
    {
     "name": "stdout",
     "output_type": "stream",
     "text": [
      "     3      2\n",
      "2.5 x - 20 x + 46.5 x - 25\n"
     ]
    }
   ],
   "source": [
    "from scipy.interpolate import lagrange\n",
    "x_values = [1, 2, 3, 4]\n",
    "y_values = [4, 8, 2, 1]\n",
    "\n",
    "print(lagrange(x_values, y_values))\n",
    "#      3      2\n",
    "# 2.5 x - 20 x + 46.5 x - 25"
   ]
  },
  {
   "cell_type": "markdown",
   "id": "80a45d7f-2b1c-4502-aaa8-4688fd4c8468",
   "metadata": {},
   "source": [
    "## The above in finite field\n",
    "\n",
    "Let’s use the same polynomial as before, but this time we’ll use a finite field $\\mathbb{F}_{17}$ instead of floating point numbers."
   ]
  },
  {
   "cell_type": "code",
   "execution_count": 6,
   "id": "1b93f4da-af37-4737-a4e1-c214f71d79af",
   "metadata": {},
   "outputs": [
    {
     "name": "stdout",
     "output_type": "stream",
     "text": [
      "11x^3 + 14x^2 + 4x + 9\n",
      "4 8 2 1\n"
     ]
    }
   ],
   "source": [
    "import galois\n",
    "import numpy as np\n",
    "GF17 = galois.GF(17)\n",
    "\n",
    "xs = GF17(np.array([1,2,3,4]))\n",
    "ys = GF17(np.array([4,8,2,1]))\n",
    "\n",
    "p = galois.lagrange_poly(xs, ys)\n",
    "\n",
    "print(p)\n",
    "\n",
    "print(p(1), p(2), p(3), p(4))\n",
    "\n",
    "assert p(1) == GF17(4)\n",
    "assert p(2) == GF17(8)\n",
    "assert p(3) == GF17(2)\n",
    "assert p(4) == GF17(1)"
   ]
  },
  {
   "cell_type": "markdown",
   "id": "9197ee33-ba8f-4af0-999f-b0126afbc22f",
   "metadata": {},
   "source": [
    "**For a set of $n$ points, there is a unique lowest-degree polynomial of at most degree $n - 1$ that interpolates them.**  \n",
    "The conosequence of this is that  \n",
    "**If we use the points $(1,2,…,n)$ as the $x$ values to convert a length $n$ vector to a polynomial via Lagrange interpolation, then the resulting polynomial is unique.**"
   ]
  },
  {
   "cell_type": "markdown",
   "id": "e4985ba1-f6e6-41b6-a70d-15f698f96970",
   "metadata": {},
   "source": [
    "# The Schwartz-Zippel Lemma and its application to Zero Knowledge Proofs\n",
    "\n",
    "Nearly all ZK-Proof algorithms rely on the Schwartz-Zippel Lemma to achieve succintness. \n",
    "\n",
    "The Schwartz-Zippel Lemma states that if we are given two polynomials $p(x)$ and $q(x)$ with degrees $d_p$ and $d_q$ respectively, and if $p(x) \\neq q(x)$, then the number of points where $p(x)$ and $q(x)$ intersect is less than or equal to $max(d_p, d_q)$.\n",
    "\n",
    "## Polynomials in finite fields and the Schwartz-Zippel Lemma\n",
    "\n",
    "### Polynomial equality testing\n",
    "\n",
    "We can test that two polynomials are equal by checking if all their coefficients are equal, but this takes $\\mathcal{O}(d)$ time, where $d$ is the degree of the polynomial. If instead we can evaluate the polynomials at a random point $u$ and compare the evaluations $\\mathcal{O}(1)$ in time.  \n",
    "So, in finite field $\\mathbb{F}_p$, $u \\in [0,p)$ and we check for $f(x) \\stackrel{?}{=} g(x)$. For large enough $p$, like $p \\approx 2^{254}$, this equality check tell if both ply are equal or not with maximum certinity (and ignoring that the point chosen is just an intersecting point).  \n",
    "\n",
    "### Using the Schwartz-Zippel Lemma to test if two vectors are equal\n",
    "\n",
    "We can combine Lagrange interpolation with the Schwartz-Zippel Lemma to test if two vectors are equal. We use common values of $x$ (say $[1,2,3, ..., n]) to interpolate the vectors (the y values are the coeffecients or \"columns\" of the vectors). So we do:\n",
    "1. Interpolate a polynomial for each vector $f(x)$ and $g(x)$\n",
    "2. Pick a random $u$\n",
    "3. Evaluate the polynomial as $u$\n",
    "4. Check if $f(x) = g(x)$\n",
    "\n",
    "Below is an example in python."
   ]
  },
  {
   "cell_type": "code",
   "execution_count": 1,
   "id": "4c34c80e-0ab1-443f-a4df-9cc5a30e13d0",
   "metadata": {},
   "outputs": [],
   "source": [
    "import galois\n",
    "import numpy as np\n",
    "\n",
    "p = 103\n",
    "GF = galois.GF(p)\n",
    "\n",
    "# We take 3 values as we have 3 rows in the vector\n",
    "xs = GF(np.array([1,2,3]))\n",
    "\n",
    "# arbitrary vectors\n",
    "v1 =  GF(np.array([4,8,19]))\n",
    "v2 =  GF(np.array([4,8,19]))\n",
    "\n",
    "\n",
    "def L(v):\n",
    "    return galois.lagrange_poly(xs, v)\n",
    "\n",
    "p1 = L(v1)\n",
    "p2 = L(v2)\n",
    "\n",
    "import random\n",
    "u = random.randint(0, p)\n",
    "\n",
    "lhs = p1(u)\n",
    "rhs = p2(u)\n",
    "\n",
    "# only one check required\n",
    "assert lhs == rhs"
   ]
  }
 ],
 "metadata": {
  "kernelspec": {
   "display_name": "Python 3 (ipykernel)",
   "language": "python",
   "name": "python3"
  },
  "language_info": {
   "codemirror_mode": {
    "name": "ipython",
    "version": 3
   },
   "file_extension": ".py",
   "mimetype": "text/x-python",
   "name": "python",
   "nbconvert_exporter": "python",
   "pygments_lexer": "ipython3",
   "version": "3.11.10"
  },
  "widgets": {
   "application/vnd.jupyter.widget-state+json": {
    "state": {},
    "version_major": 2,
    "version_minor": 0
   }
  }
 },
 "nbformat": 4,
 "nbformat_minor": 5
}
