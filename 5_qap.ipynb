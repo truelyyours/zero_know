{
 "cells": [
  {
   "cell_type": "markdown",
   "id": "0872b81d-be9e-4be1-8797-7d4bd41116b5",
   "metadata": {},
   "source": [
    "# Quadratic Arithmetic Programs\n",
    "\n",
    "A quadratic arithmetic program is an arithmetic circuit, specifically a *Rank 1 Constraint System (R1CS)* represented as a set of polynomials. It is derived using *Lagrange interpolation* on a Rank 1 Constraint System. Unlike an R1CS, a Quadratic Arithmetic Program (QAP) can be tested for equality in $\\mathcal{O}(1)$ time via the Schwartz-Zippel Lemma. Note that we do have the overhead of \"converting\" the vectors in polynomials but it is acceptable as we will see toards the end.  \n",
    "Because a Rank 1 Constraint System is entirely composed of vector operations, we aim to test if\n",
    "$$\n",
    "\\mathbf{L}\\mathbf{a}\\circ\\mathbf{R}\\mathbf{a}\\stackrel{?}{=}\\mathbf{O}\\mathbf{a}\n",
    "$$\n",
    "holds in $\\mathcal{O}(1)$ time instead of $\\mathcal{O}(n)$ time.  \n",
    "For all math going forward, we assume we are working in a *finite field*, but skip writing $\\mod p$ for succinctness."
   ]
  },
  {
   "cell_type": "markdown",
   "id": "412dbcdc-a339-4301-83ac-ce3cddc7e676",
   "metadata": {},
   "source": [
    "## Homomorphisms between vector addition and polynomial addition\n",
    "\n",
    "### Vector addition is homomorphic to polynomial addition\n",
    "If we take two vectors, interpolate them with polynomials, then add the polynomials together, we get the same polynomial as if we added the vectors together and then interpolated the sum vector.\n",
    "$$\\mathcal{L}(\\mathbf{v} + \\mathbf{w}) = \\mathcal{L}(\\mathbf{v}) + \\mathcal{L}(\\mathbf{w})$$\n",
    "Also, multiplying a scalar $\\lambda$ is essentially adding the vector to itself $\\lambda$ times.\n",
    "$$\\mathcal{L}(\\lambda \\mathbf{v}) = \\lambda\\mathcal{L}(\\mathbf{v})$$\n"
   ]
  },
  {
   "cell_type": "code",
   "execution_count": null,
   "id": "e07544e8-86d9-42c7-a8f3-b333af68fb95",
   "metadata": {},
   "outputs": [],
   "source": [
    "# Testing the math in Python\n",
    "\n",
    "import galois\n",
    "import numpy as np\n",
    "\n",
    "p = 17\n",
    "GF = galois.GF(p)\n",
    "\n",
    "xs = GF(np.array([1,2,3]))\n",
    "\n",
    "# two arbitrary vectors\n",
    "v1 =  GF(np.array([4,8,2])) \n",
    "v2 =  GF(np.array([1,6,12]))\n",
    "\n",
    "def L(v):\n",
    "    return galois.lagrange_poly(xs, v)\n",
    "\n",
    "assert L(v1 + v2) == L(v1) + L(v2)"
   ]
  },
  {
   "cell_type": "markdown",
   "id": "06d71290-44c6-495e-9aa9-c6c2c596ec2d",
   "metadata": {},
   "source": [
    "So, **The group of vectors under addition in a finite field is homomorphic to the group of polynomials under addition in a finite field.**  \n",
    "This is critical because **vector equality testing takes $\\mathcal{O}(n)$ time, but polynomial equality testing takes $\\mathcal{O}(1)$ time.**  \n",
    "\n",
    "This is what a *Quadratic Arithmetic Program* is."
   ]
  },
  {
   "cell_type": "markdown",
   "id": "9e511ec4-202d-48af-b2bb-9aa7551442e9",
   "metadata": {},
   "source": [
    "## A Rank 1 Constraint System in Polynomials\n",
    "Consider that matrix multiplication between a rectangular matrix and a vector can be written in terms of vector addition and scalar multiplication.\n",
    "$$\n",
    "\\mathbf{A} \\cdot \\mathbf{v} = \\begin{bmatrix}\n",
    "a_{11} & a_{12} & a_{13} & a_{14}\\\\\n",
    "a_{21} & a_{22} & a_{23} & a_{24}\\\\\n",
    "a_{31} & a_{32} & a_{33} & a_{34}\n",
    "\\end{bmatrix}\n",
    "\\begin{bmatrix}\n",
    "v_1\\\\\n",
    "v_2\\\\\n",
    "v_3\\\\\n",
    "v_4\n",
    "\\end{bmatrix}\n",
    "$$\n",
    "$$\n",
    "\\mathbf{A}\\cdot \\mathbf{v} =\n",
    "\\begin{bmatrix}\n",
    "a_{11}\\cdot v_1 + a_{12}\\cdot v_2 + a_{13}\\cdot v_3 + a_{14}\\cdot v_4\\\\\n",
    "a_{21}\\cdot v_1 + a_{22}\\cdot v_2 + a_{23}\\cdot v_3 + a_{24}\\cdot v_4\\\\\n",
    "a_{31}\\cdot v_1 + a_{32}\\cdot v_2 + a_{33}\\cdot v_3 + a_{34}\\cdot v_4\n",
    "\\end{bmatrix}\n",
    "$$\n",
    "However, we could instead think of splitting matrix $A$ into bunch of vectors as:\n",
    "$$\n",
    "\\mathbf{A} = \\begin{bmatrix}\n",
    "a_{11} \\\\\n",
    "a_{21} \\\\\n",
    "a_{31}\n",
    "\\end{bmatrix}\n",
    ",\n",
    "\\begin{bmatrix}\n",
    "a_{12} \\\\\n",
    "a_{22} \\\\\n",
    "a_{32}\n",
    "\\end{bmatrix}\n",
    ",\n",
    "\\begin{bmatrix}\n",
    "a_{13} \\\\\n",
    "a_{23} \\\\\n",
    "a_{33}\n",
    "\\end{bmatrix}\n",
    ",\n",
    "\\begin{bmatrix}\n",
    "a_{14} \\\\\n",
    "a_{24} \\\\\n",
    "a_{34}\n",
    "\\end{bmatrix}\n",
    "$$\n",
    "and multiplying each vector by a scalar from the vector $\\mathbf{v}$:\n",
    "$$\n",
    "\\mathbf{A}\\cdot \\mathbf{v} = \\begin{bmatrix}\n",
    "a_{11} \\\\\n",
    "a_{21} \\\\\n",
    "a_{31}\n",
    "\\end{bmatrix}\\cdot v_1\n",
    "+\n",
    "\\begin{bmatrix}\n",
    "a_{12} \\\\\n",
    "a_{22} \\\\\n",
    "a_{32}\n",
    "\\end{bmatrix}\\cdot v_2\n",
    "+\n",
    "\\begin{bmatrix}\n",
    "a_{13} \\\\\n",
    "a_{23} \\\\\n",
    "a_{33}\n",
    "\\end{bmatrix}\\cdot v_3\n",
    "+\n",
    "\\begin{bmatrix}\n",
    "a_{14} \\\\\n",
    "a_{24} \\\\\n",
    "a_{34}\n",
    "\\end{bmatrix}\\cdot v_4\n",
    "$$\n",
    "We will be using this "
   ]
  }
 ],
 "metadata": {
  "kernelspec": {
   "display_name": "Python 3 (ipykernel)",
   "language": "python",
   "name": "python3"
  },
  "language_info": {
   "codemirror_mode": {
    "name": "ipython",
    "version": 3
   },
   "file_extension": ".py",
   "mimetype": "text/x-python",
   "name": "python",
   "nbconvert_exporter": "python",
   "pygments_lexer": "ipython3",
   "version": "3.11.10"
  },
  "widgets": {
   "application/vnd.jupyter.widget-state+json": {
    "state": {},
    "version_major": 2,
    "version_minor": 0
   }
  }
 },
 "nbformat": 4,
 "nbformat_minor": 5
}
